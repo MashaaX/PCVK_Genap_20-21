{
  "nbformat": 4,
  "nbformat_minor": 0,
  "metadata": {
    "colab": {
      "name": "Week 5.ipynb",
      "provenance": [],
      "authorship_tag": "ABX9TyNeVGNhi9F/KLl5MY5yhlaC",
      "include_colab_link": true
    },
    "kernelspec": {
      "name": "python3",
      "display_name": "Python 3"
    },
    "language_info": {
      "name": "python"
    }
  },
  "cells": [
    {
      "cell_type": "markdown",
      "metadata": {
        "id": "view-in-github",
        "colab_type": "text"
      },
      "source": [
        "<a href=\"https://colab.research.google.com/github/MashaaX/PCVK_Genap_20-21/blob/main/Week_5.ipynb\" target=\"_parent\"><img src=\"https://colab.research.google.com/assets/colab-badge.svg\" alt=\"Open In Colab\"/></a>"
      ]
    },
    {
      "cell_type": "code",
      "metadata": {
        "id": "VuzOcKrLsjTL"
      },
      "source": [
        "from google.colab import drive\n",
        "\n",
        "drive.mount('/content/drive')"
      ],
      "execution_count": null,
      "outputs": []
    },
    {
      "cell_type": "code",
      "metadata": {
        "id": "d7gJFmUYsLMC"
      },
      "source": [
        "import cv2 as cv\n",
        "from google.colab.patches import cv2_imshow\n",
        "import numpy as np\n",
        "import matplotlib.pyplot as plt\n",
        "import math\n",
        "import glob"
      ],
      "execution_count": null,
      "outputs": []
    },
    {
      "cell_type": "code",
      "metadata": {
        "id": "7_5iCc2lsRWf"
      },
      "source": [
        "print(' Gamma Correction pada citra ')\n",
        "print('----------------------------------')\n",
        "try:\n",
        "  gamma = int(input('Masukkan nilai Gamma: '))\n",
        "except ValueError:\n",
        "  print('Error, not a number')\n",
        "\n",
        "img = cv.imread('/content/drive/MyDrive/female.tiff')\n",
        "img_gamma = np.zeros(img.shape, img.dtype)\n",
        "for x in range(img.shape[0]):\n",
        "  for y in range(img.shape[1]):\n",
        "    for z in range(img.shape[2]):\n",
        "      clip= 255*((img[x,y,z]/255)**(1/gamma))\n",
        "      img_gamma[x,y,z] = np.clip(clip, 0, 255)\n",
        "\n",
        "frame = cv.hconcat((img, img_gamma))\n",
        "cv2_imshow(frame)"
      ],
      "execution_count": null,
      "outputs": []
    },
    {
      "cell_type": "code",
      "metadata": {
        "id": "T0vVY3OSsTqH"
      },
      "source": [
        "print(' Image Depth Simulation : ')\n",
        "print('-------------------------------------')\n",
        "try: \n",
        " depth = int(input('Masukkan nilai Image Depth  : '))\n",
        "except ValueError:\n",
        " print('Error, not a number')\n",
        "\n",
        "img = cv.imread('/content/drive/MyDrive/female.tiff')\n",
        "img_depth = np.zeros(img.shape, img.dtype)\n",
        "accuration = 255/((2**depth)-1)\n",
        "for x in range(img.shape[0]):\n",
        "  for y in range(img.shape[1]):\n",
        "    for z in range(img.shape[2]):\n",
        "      clip = round((img[x,y,z]/accuration))*accuration\n",
        "      img_depth[x,y,z] = np.clip(clip, 0, 255)\n",
        "\n",
        "frame = cv.hconcat((img, img_depth))\n",
        "cv2_imshow(frame)"
      ],
      "execution_count": null,
      "outputs": []
    },
    {
      "cell_type": "code",
      "metadata": {
        "id": "R8zODv1ksYZP"
      },
      "source": [
        "location=\"/content/drive/MyDrive/noises/*.jpg\"\n",
        "pic=glob.glob(location)\n",
        "pic.sort()\n",
        "def PSNR(img1, img2):\n",
        "  mse = np.mean((img1 - img2) ** 2)\n",
        "  if(mse == 0): \n",
        "    return 100\n",
        "  max_pixel = 255.0\n",
        "  psnr = 20 * math.log10(max_pixel / math.sqrt(mse))\n",
        "  return psnr\n",
        "\n",
        "img_number(100) #Input Image Number\n",
        "def img_number(n): \n",
        "    temp = cv.imread(files[0])\n",
        "    sum_arr = np.zeros(temp.shape).astype(np.float)\n",
        "    for picture in pic[0:n]:\n",
        "        img = cv.imread(picture).astype(float)\n",
        "        sum_arr = sum_arr + img\n",
        "    denoised_img = sum_arr / n\n",
        "    output = cv.normalize(denoised_img, None, 0, 255, cv.NORM_MINMAX)\n",
        "    print('PSNR value : ',PSNR(temp, output))\n",
        "    cv2_imshow(output)"
      ],
      "execution_count": null,
      "outputs": []
    },
    {
      "cell_type": "code",
      "metadata": {
        "id": "andLO4Doscvn"
      },
      "source": [
        "image = cv.imread('/content/drive/MyDrive/teeth.jpg')\n",
        "black = np.zeros(image.shape, image.dtype)\n",
        "mask = cv.rectangle(black, (400, 100), (800,500), [255,255,255], cv.FILLED)\n",
        "mask = cv.rectangle(mask, (300, 600), (800,1000), [255,255,255], cv.FILLED)\n",
        "print('image input')\n",
        "frame = cv.hconcat((image, mask))\n",
        "cv2_imshow(frame)\n",
        "print('image output:')\n",
        "# masked_img = cv.bitwise_and(image, mask)\n",
        "# cv2_imshow(masked_img)\n",
        "# masked_img = cv.bitwise_or(image, mask)\n",
        "# cv2_imshow(masked_img)\n",
        "# masked_img = cv.bitwise_not(image, mask)\n",
        "# cv2_imshow(masked_img)\n",
        "# masked_img = cv.bitwise_not(cv.bitwise_and(image, mask))\n",
        "# cv2_imshow(masked_img)\n",
        "masked_img = cv.bitwise_xor(image, mask)\n",
        "cv2_imshow(masked_img)"
      ],
      "execution_count": null,
      "outputs": []
    }
  ]
}